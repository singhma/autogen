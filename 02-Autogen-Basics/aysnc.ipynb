{
 "cells": [
  {
   "cell_type": "markdown",
   "id": "8492970f",
   "metadata": {},
   "source": [
    "# Async Functionality in Python"
   ]
  },
  {
   "cell_type": "markdown",
   "id": "e716c649",
   "metadata": {},
   "source": [
    "Synchronous Programming Example"
   ]
  },
  {
   "cell_type": "code",
   "execution_count": 9,
   "id": "92540e88",
   "metadata": {},
   "outputs": [
    {
     "name": "stdout",
     "output_type": "stream",
     "text": [
      "Hello I am the first function\n",
      "Hello I am the second function\n"
     ]
    }
   ],
   "source": [
    "\n",
    "def func1():\n",
    "    print(\"Hello I am the first function\")\n",
    "\n",
    "def func2():\n",
    "    print(\"Hello I am the second function\")\n",
    "\n",
    "func1()\n",
    "func2()"
   ]
  },
  {
   "cell_type": "code",
   "execution_count": 10,
   "id": "1240d5b8",
   "metadata": {},
   "outputs": [
    {
     "name": "stdout",
     "output_type": "stream",
     "text": [
      "Brewing coffee\n",
      "Coffee ready\n",
      "Toasting Bagel\n",
      "Bagel ready\n",
      "Time: 6.01 minutes\n"
     ]
    }
   ],
   "source": [
    "import time\n",
    "\n",
    "def brew_coffee():\n",
    "    print(\"Brewing coffee\")\n",
    "    time.sleep(3)\n",
    "    print(\"Coffee ready\")\n",
    "\n",
    "def toast_bagel():\n",
    "    print(\"Toasting Bagel\")\n",
    "    time.sleep(3)\n",
    "    print(\"Bagel ready\")\n",
    "\n",
    "def main():\n",
    "    start = time.time()\n",
    "    coffee = brew_coffee()\n",
    "    bagel = toast_bagel()\n",
    "    end = time.time()\n",
    "\n",
    "    print(f\"Time: {end - start:.2f} minutes\")\n",
    "\n",
    "main()"
   ]
  },
  {
   "cell_type": "markdown",
   "id": "6a19aea1",
   "metadata": {},
   "source": [
    "## Asynchronous Example"
   ]
  },
  {
   "cell_type": "code",
   "execution_count": 11,
   "id": "e5fa7bbd",
   "metadata": {},
   "outputs": [
    {
     "name": "stdout",
     "output_type": "stream",
     "text": [
      "Brewing coffee\n",
      "Toasting Bagel\n",
      "Coffee ready\n",
      "Bagel ready\n",
      "Time: 3.00 minutes\n"
     ]
    }
   ],
   "source": [
    "import time\n",
    "import asyncio\n",
    "\n",
    "\n",
    "async def brew_coffee():\n",
    "    print(\"Brewing coffee\")\n",
    "    await asyncio.sleep(3)\n",
    "    print(\"Coffee ready\")\n",
    "\n",
    "async def toast_bagel():\n",
    "    print(\"Toasting Bagel\")\n",
    "    await asyncio.sleep(3)\n",
    "    print(\"Bagel ready\")\n",
    "\n",
    "async def main():\n",
    "    start = time.time()\n",
    "    coffee = brew_coffee()\n",
    "    bagel = toast_bagel()\n",
    "    results = await asyncio.gather(coffee, bagel)\n",
    "    \n",
    "    end = time.time()\n",
    "\n",
    "    \n",
    "    print(f\"Time: {end - start:.2f} minutes\")\n",
    "\n",
    "await main()"
   ]
  },
  {
   "cell_type": "code",
   "execution_count": null,
   "id": "41e96144",
   "metadata": {},
   "outputs": [],
   "source": [
    "from pydantic import BaseModel\n",
    "from autogen_ext.models.openai import OpenAIChatCompletionClient\n",
    "from autogen_agentchat.agents import AssistantAgent\n",
    "from dotenv import load_dotenv\n",
    "\n",
    "load_dotenv()\n",
    "\n",
    "class PlanetInfo(BaseModel):\n",
    "    name: str\n",
    "    color: str\n",
    "    distance: str\n",
    "\n",
    "structured_model_client = OpenAIChatCompletionClient(model='gpt-4o', response_format=PlanetInfo)\n",
    "assistant_2 = AssistantAgent(name=\"DigitalHuman\", model_client=structured_model_client)\n",
    "result = await assistant_2.run(task=\"Who are you\")\n",
    "result"
   ]
  }
 ],
 "metadata": {
  "kernelspec": {
   "display_name": "Introduction (3.12.9)",
   "language": "python",
   "name": "python3"
  },
  "language_info": {
   "codemirror_mode": {
    "name": "ipython",
    "version": 3
   },
   "file_extension": ".py",
   "mimetype": "text/x-python",
   "name": "python",
   "nbconvert_exporter": "python",
   "pygments_lexer": "ipython3",
   "version": "3.12.9"
  }
 },
 "nbformat": 4,
 "nbformat_minor": 5
}
